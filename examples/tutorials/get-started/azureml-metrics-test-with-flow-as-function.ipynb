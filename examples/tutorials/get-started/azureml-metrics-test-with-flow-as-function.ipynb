{
 "cells": [
  {
   "cell_type": "markdown",
   "metadata": {},
   "source": [
    "### Example1: Direct Invocation of Promptflow Eval Grader & Aggregator metrics \n",
    "- These metrics internally using azureml-metrics packages"
   ]
  },
  {
   "cell_type": "code",
   "execution_count": 5,
   "metadata": {},
   "outputs": [
    {
     "name": "stdout",
     "output_type": "stream",
     "text": [
      "\n",
      "BleuScoreGraderEvaluator >> evaluate_score :: {'kwargs': {}}\n",
      "\n",
      "BleuScoreGraderEvaluator >> evaluate_score >> SCORES :: [0.6]\n",
      "\n",
      "BleuScoreGraderEvaluator >> CALL >> GRADER_SCORES :: [0.6]\n",
      "BLEU scores-1: [0.6]\n",
      "\n",
      "MeanAggregatorEvaluator >> COMPUTE_SCORE >> aggregated_score :: 0.6\n",
      "Aggregated Score: 0.6\n"
     ]
    }
   ],
   "source": [
    "from promptflow.evals.evaluators import evaluate_grade, EvalGraderType, EvalAggregatorType, evaluate_aggregate\n",
    "\n",
    "y_test = \"The quick brown fox jumps over the lazy dog\"\n",
    "y_pred = \"The quick brown fox jumped over the lazy dog\"\n",
    "\n",
    "scores = evaluate_grade(EvalGraderType.BLEU_SCORE_GRADER, predicted=y_test, ground_truth=y_pred)\n",
    "#scores = evaluator(reference_texts_array, hypothesis_array, task_type=\"Bleu\")\n",
    "print(f\"BLEU scores-1: {scores}\")\n",
    "\n",
    "\n",
    "\n",
    "aggregated_score = evaluate_aggregate(EvalAggregatorType.MEAN_AGGREGATOR, scores)\n",
    "\n",
    "print(f\"Aggregated Score: {aggregated_score}\")"
   ]
  },
  {
   "cell_type": "markdown",
   "metadata": {},
   "source": [
    "### Example3: Grader evaluation as a function with multiple data points as an input"
   ]
  },
  {
   "cell_type": "code",
   "execution_count": 6,
   "metadata": {},
   "outputs": [
    {
     "name": "stderr",
     "output_type": "stream",
     "text": [
      "[2024-07-26 17:51:38 +0530][flowinvoker][INFO] - Validating flow input with data {'prediction': ['A quick movement of the enemy will jeopardize six gunboats', 'Large Language Models are powerful tools for NLP tasks', 'some prediction'], 'groundtruth': ['Swift movement of the enemy will jeopardize six gunboats', 'LLMs are powerful tools for NLP tasks ', 'ground truth']}\n",
      "[2024-07-26 17:51:38 +0530][flowinvoker][INFO] - Execute flow with data {'prediction': ['A quick movement of the enemy will jeopardize six gunboats', 'Large Language Models are powerful tools for NLP tasks', 'some prediction'], 'groundtruth': ['Swift movement of the enemy will jeopardize six gunboats', 'LLMs are powerful tools for NLP tasks ', 'ground truth']}\n"
     ]
    },
    {
     "name": "stdout",
     "output_type": "stream",
     "text": [
      "2024-07-26 17:51:38 +0530   21656 execution.flow     INFO     Start executing nodes in thread pool mode.\n",
      "2024-07-26 17:51:38 +0530   21656 execution.flow     INFO     Start to run 2 nodes with concurrency level 16.\n",
      "2024-07-26 17:51:38 +0530   21656 execution.flow     INFO     Executing node grader. node run id: 0375f32a-8119-40f4-8440-1c86eae8af38_grader_15ff874b-1065-4f79-9590-e10ea10685b3\n",
      "2024-07-26 17:51:38 +0530   21656 execution.flow     INFO     [grader in line None (index starts from 0)] stdout> \n",
      "PROMPTFLOW >> GRADER FUNCTION :: prediction : ['A quick movement of the enemy will jeopardize six gunboats', 'Large Language Models are powerful tools for NLP tasks', 'some prediction'], groundtruth : ['Swift movement of the enemy will jeopardize six gunboats', 'LLMs are powerful tools for NLP tasks ', 'ground truth']\n"
     ]
    },
    {
     "name": "stdout",
     "output_type": "stream",
     "text": [
      "2024-07-26 17:51:38 +0530   21656 execution.flow     INFO     [grader in line None (index starts from 0)] stdout> \n",
      "BleuScoreGraderEvaluator >> evaluate_score :: {'kwargs': {}}\n",
      "2024-07-26 17:51:38 +0530   21656 execution.flow     INFO     [grader in line None (index starts from 0)] stdout> \n",
      "BleuScoreGraderEvaluator >> evaluate_score >> SCORES :: [0.76, 0.59, 0]\n",
      "2024-07-26 17:51:38 +0530   21656 execution.flow     INFO     [grader in line None (index starts from 0)] stdout> \n",
      "BleuScoreGraderEvaluator >> CALL >> GRADER_SCORES :: [0.76, 0.59, 0]\n",
      "2024-07-26 17:51:38 +0530   21656 execution.flow     INFO     [grader in line None (index starts from 0)] stdout> \n",
      "\n",
      "PROMPTFLOW >> GRADER FUNCTION :: BleuScores : [0.76, 0.59, 0]\n",
      "2024-07-26 17:51:38 +0530   21656 execution.flow     INFO     Node grader completes.\n",
      "2024-07-26 17:51:38 +0530   21656 execution.flow     INFO     Executing node aggregator. node run id: 0375f32a-8119-40f4-8440-1c86eae8af38_aggregator_9f52a11c-67fd-4492-94bf-3c64ab2357c5\n",
      "2024-07-26 17:51:38 +0530   21656 execution.flow     INFO     [aggregator in line None (index starts from 0)] stdout> \n",
      "MeanAggregatorEvaluator >> COMPUTE_SCORE >> aggregated_score :: 0.45\n",
      "2024-07-26 17:51:38 +0530   21656 execution.flow     INFO     [aggregator in line None (index starts from 0)] stdout> \n",
      "\n",
      "PROMPTFLOW >> AGGREGATER FUNCTION :: aggregate_score : 0.45\n",
      "2024-07-26 17:51:38 +0530   21656 execution.flow     INFO     Node aggregator completes.\n",
      "{'grader_result': 0.45}\n"
     ]
    }
   ],
   "source": [
    "from promptflow.client import load_flow\n",
    "\n",
    "flow_function = load_flow(source=\"../../flows/evaluation/eval-classification-accuracy\")\n",
    "\n",
    "# Input with multiple data points\n",
    "prediction_texts = [\"A quick movement of the enemy will jeopardize six gunboats\" , \"Large Language Models are powerful tools for NLP tasks\" , \"some prediction\" ]\n",
    "groundtruth_texts = [\"Swift movement of the enemy will jeopardize six gunboats\" , \"LLMs are powerful tools for NLP tasks \" , \"ground truth\"]\n",
    "\n",
    "print(flow_function(prediction=prediction_texts, groundtruth=groundtruth_texts))"
   ]
  },
  {
   "cell_type": "markdown",
   "metadata": {},
   "source": [
    "### Example2: Grader evaluation as a function with single data point as an input"
   ]
  },
  {
   "cell_type": "code",
   "execution_count": 7,
   "metadata": {},
   "outputs": [
    {
     "name": "stderr",
     "output_type": "stream",
     "text": [
      "[2024-07-26 17:51:38 +0530][flowinvoker][INFO] - Validating flow input with data {'prediction': ['A quick movement of the enemy will jeopardize six gunboats'], 'groundtruth': ['Swift movement of the enemy will jeopardize six gunboats']}\n",
      "[2024-07-26 17:51:38 +0530][flowinvoker][INFO] - Execute flow with data {'prediction': ['A quick movement of the enemy will jeopardize six gunboats'], 'groundtruth': ['Swift movement of the enemy will jeopardize six gunboats']}\n"
     ]
    },
    {
     "name": "stdout",
     "output_type": "stream",
     "text": [
      "2024-07-26 17:51:38 +0530   21656 execution.flow     INFO     Start executing nodes in thread pool mode.\n",
      "2024-07-26 17:51:38 +0530   21656 execution.flow     INFO     Start to run 2 nodes with concurrency level 16.\n",
      "2024-07-26 17:51:38 +0530   21656 execution.flow     INFO     Executing node grader. node run id: df0d9109-9a7f-4fd6-9616-16e2d6305528_grader_7a0d50ab-d123-4b72-b377-9d83d0f72882\n",
      "2024-07-26 17:51:38 +0530   21656 execution.flow     INFO     [grader in line None (index starts from 0)] stdout> \n",
      "PROMPTFLOW >> GRADER FUNCTION :: prediction : ['A quick movement of the enemy will jeopardize six gunboats'], groundtruth : ['Swift movement of the enemy will jeopardize six gunboats']\n",
      "2024-07-26 17:51:38 +0530   21656 execution.flow     INFO     [grader in line None (index starts from 0)] stdout> \n",
      "BleuScoreGraderEvaluator >> evaluate_score :: {'kwargs': {}}\n",
      "2024-07-26 17:51:38 +0530   21656 execution.flow     INFO     [grader in line None (index starts from 0)] stdout> \n",
      "BleuScoreGraderEvaluator >> evaluate_score >> SCORES :: [0.76]\n",
      "2024-07-26 17:51:38 +0530   21656 execution.flow     INFO     [grader in line None (index starts from 0)] stdout> \n",
      "BleuScoreGraderEvaluator >> CALL >> GRADER_SCORES :: [0.76]\n",
      "2024-07-26 17:51:38 +0530   21656 execution.flow     INFO     [grader in line None (index starts from 0)] stdout> \n",
      "\n",
      "PROMPTFLOW >> GRADER FUNCTION :: BleuScores : [0.76]\n",
      "2024-07-26 17:51:38 +0530   21656 execution.flow     INFO     Node grader completes.\n",
      "2024-07-26 17:51:38 +0530   21656 execution.flow     INFO     Executing node aggregator. node run id: df0d9109-9a7f-4fd6-9616-16e2d6305528_aggregator_680a848e-4120-4c31-a2b3-135c46bb370f\n",
      "2024-07-26 17:51:38 +0530   21656 execution.flow     INFO     [aggregator in line None (index starts from 0)] stdout> \n",
      "MeanAggregatorEvaluator >> COMPUTE_SCORE >> aggregated_score :: 0.76\n",
      "2024-07-26 17:51:38 +0530   21656 execution.flow     INFO     [aggregator in line None (index starts from 0)] stdout> \n",
      "\n",
      "PROMPTFLOW >> AGGREGATER FUNCTION :: aggregate_score : 0.76\n",
      "2024-07-26 17:51:38 +0530   21656 execution.flow     INFO     Node aggregator completes.\n",
      "{'grader_result': 0.76}\n"
     ]
    }
   ],
   "source": [
    "\n",
    "# Input with single data point\n",
    "prediction = [\"A quick movement of the enemy will jeopardize six gunboats\"]\n",
    "groundtruth = [\"Swift movement of the enemy will jeopardize six gunboats\"]\n",
    "\n",
    "print(flow_function(prediction=prediction, groundtruth=groundtruth))"
   ]
  }
 ],
 "metadata": {
  "build_doc": {
   "author": [
    "D-W-@github.com",
    "wangchao1230@github.com"
   ],
   "category": "local",
   "section": "Flow",
   "weight": 40
  },
  "description": "This guide will walk you through the main scenarios of executing flow as a function.",
  "kernelspec": {
   "display_name": "github_v2",
   "language": "python",
   "name": "python3"
  },
  "language_info": {
   "codemirror_mode": {
    "name": "ipython",
    "version": 3
   },
   "file_extension": ".py",
   "mimetype": "text/x-python",
   "name": "python",
   "nbconvert_exporter": "python",
   "pygments_lexer": "ipython3",
   "version": "3.11.9"
  },
  "resources": "examples/flows/standard/web-classification, examples/flows/chat/chat-basic"
 },
 "nbformat": 4,
 "nbformat_minor": 2
}
